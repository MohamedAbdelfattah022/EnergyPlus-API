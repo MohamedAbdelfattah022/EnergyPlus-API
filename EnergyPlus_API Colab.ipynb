{
 "cells": [
  {
   "cell_type": "code",
   "execution_count": null,
   "metadata": {
    "colab": {
     "base_uri": "https://localhost:8080/"
    },
    "id": "r9AAVBrtn9ah",
    "outputId": "78812379-af1a-4015-882e-984422a9a860"
   },
   "outputs": [],
   "source": [
    "!apt-get install -y wget unzip\n",
    "\n",
    "!wget -O EnergyPlus.tar.gz https://github.com/NREL/EnergyPlus/releases/download/v24.2.0a/EnergyPlus-24.2.0-94a887817b-Linux-Ubuntu22.04-x86_64.tar.gz\n",
    "\n",
    "!tar -xvzf EnergyPlus.tar.gz\n",
    "\n",
    "!mv EnergyPlus-24.2.0-94a887817b-Linux-Ubuntu22.04-x86_64 /usr/local/EnergyPlus\n",
    "\n",
    "!export PATH=$PATH:/usr/local/EnergyPlus\n",
    "!export ENERGYPLUS_DIR=/usr/local/EnergyPlus\n",
    "!echo 'export PATH=$PATH:/usr/local/EnergyPlus' >> ~/.bashrc\n",
    "!echo 'export ENERGYPLUS_DIR=/usr/local/EnergyPlus' >> ~/.bashrc\n",
    "!source ~/.bashrc\n",
    "\n",
    "!/usr/local/EnergyPlus/energyplus --version\n"
   ]
  },
  {
   "cell_type": "code",
   "execution_count": null,
   "metadata": {},
   "outputs": [],
   "source": [
    "!pip install eppy flask pyngrok flask-cors"
   ]
  },
  {
   "cell_type": "markdown",
   "metadata": {
    "id": "2XO3CRyZy7Qo"
   },
   "source": [
    "# FLASK API"
   ]
  },
  {
   "cell_type": "code",
   "execution_count": null,
   "metadata": {
    "colab": {
     "base_uri": "https://localhost:8080/"
    },
    "id": "lCz5sPp-_UeF",
    "outputId": "ca47cd81-0fa9-4cf5-8300-4cb0f8a4c0ad"
   },
   "outputs": [],
   "source": [
    "from flask import Flask, request, jsonify, send_from_directory\n",
    "import os\n",
    "from eppy import modeleditor\n",
    "from eppy.modeleditor import IDF\n",
    "from pyngrok import ngrok\n",
    "import tempfile\n",
    "from google.colab import userdata\n",
    "from flask_cors import CORS\n",
    "\n",
    "app = Flask(__name__)\n",
    "CORS(app)\n",
    "\n",
    "iddfile = \"/usr/local/EnergyPlus/Energy+.idd\"\n",
    "IDF.setiddname(iddfile)\n",
    "\n",
    "OUTPUT_DIR = \"/content/simulation_output\"\n",
    "os.makedirs(OUTPUT_DIR, exist_ok=True)\n",
    "\n",
    "@app.route('/api/run-simulation', methods=['POST'])\n",
    "def run_simulation():\n",
    "    try:\n",
    "        if 'idf_file' not in request.files or 'epw_file' not in request.files:\n",
    "            return jsonify({'error': 'Both IDF and EPW files are required'}), 400\n",
    "\n",
    "        idf_file = request.files['idf_file']\n",
    "        epw_file = request.files['epw_file']\n",
    "\n",
    "        if idf_file.filename == '' or epw_file.filename == '':\n",
    "            return jsonify({'error': 'Empty file upload detected'}), 400\n",
    "\n",
    "        with tempfile.TemporaryDirectory() as temp_dir:\n",
    "            idf_path = os.path.join(temp_dir, idf_file.filename)\n",
    "            epw_path = os.path.join(temp_dir, epw_file.filename)\n",
    "\n",
    "            idf_file.save(idf_path)\n",
    "            epw_file.save(epw_path)\n",
    "\n",
    "            if not idf_path.endswith('.idf') or not epw_path.endswith('.epw'):\n",
    "                return jsonify({'error': 'Invalid file format. Please upload .idf and .epw files'}), 400\n",
    "\n",
    "            idf = IDF(idf_path, epw_path)\n",
    "            idf.run(\n",
    "                expandobjects=True,\n",
    "                readvars=True,\n",
    "                output_directory=OUTPUT_DIR\n",
    "            )\n",
    "\n",
    "            eplus_table_path = os.path.join(OUTPUT_DIR, 'eplustbl.htm')\n",
    "            if not os.path.exists(eplus_table_path):\n",
    "                return jsonify({\n",
    "                    'status': 'error',\n",
    "                    'message': 'Simulation completed but eplustbl.htm was not generated'\n",
    "                }), 500\n",
    "\n",
    "            return send_from_directory(\n",
    "                OUTPUT_DIR,\n",
    "                'eplustbl.htm',\n",
    "                as_attachment=True,\n",
    "                mimetype='text/html'\n",
    "            )\n",
    "\n",
    "    except Exception as e:\n",
    "        return jsonify({\n",
    "            'status': 'error',\n",
    "            'message': str(e)\n",
    "        }), 500\n",
    "\n",
    "@app.route('/api/output-files', methods=['GET'])\n",
    "def list_output_files():\n",
    "    try:\n",
    "        files = os.listdir(OUTPUT_DIR)\n",
    "        return jsonify({\n",
    "            'status': 'success',\n",
    "            'files': files\n",
    "        }), 200\n",
    "    except Exception as e:\n",
    "        return jsonify({\n",
    "            'status': 'error',\n",
    "            'message': str(e)\n",
    "        }), 500\n",
    "\n",
    "def start_server():\n",
    "    ngrok.set_auth_token(userdata.get('NGROK_AUTH_TOKEN'))\n",
    "    public_url = ngrok.connect(5000)\n",
    "    print(f\"Public URL: {public_url}\")\n",
    "\n",
    "    app.run(port=5000)\n",
    "\n",
    "if __name__ == '__main__':\n",
    "    start_server()"
   ]
  }
 ],
 "metadata": {
  "accelerator": "GPU",
  "colab": {
   "gpuType": "T4",
   "provenance": []
  },
  "kernelspec": {
   "display_name": "Python 3",
   "name": "python3"
  },
  "language_info": {
   "name": "python"
  }
 },
 "nbformat": 4,
 "nbformat_minor": 0
}
